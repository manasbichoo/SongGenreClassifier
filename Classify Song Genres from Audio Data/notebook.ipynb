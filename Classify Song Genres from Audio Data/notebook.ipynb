{
 "cells": [
  {
   "cell_type": "markdown",
   "metadata": {
    "dc": {
     "key": "3"
    },
    "deletable": false,
    "editable": false,
    "run_control": {
     "frozen": true
    },
    "tags": [
     "context"
    ]
   },
   "source": [
    "## 1. Preparing our dataset\n",
    "<p><em>These recommendations are so on point! How does this playlist know me so well?</em></p>\n",
    "<p><img src=\"https://s3.amazonaws.com/assets.datacamp.com/production/project_449/img/iphone_music.jpg\" alt=\"Project Image Record\" width=\"600px\"></p>\n",
    "<p>Over the past few years, streaming services with huge catalogs have become the primary means through which most people listen to their favorite music. But at the same time, the sheer amount of music on offer can mean users might be a bit overwhelmed when trying to look for newer music that suits their tastes.</p>\n",
    "<p>For this reason, streaming services have looked into means of categorizing music to allow for personalized recommendations. One method involves direct analysis of the raw audio information in a given song, scoring the raw data on a variety of metrics. Today, we'll be examining data compiled by a research group known as The Echo Nest. Our goal is to look through this dataset and classify songs as being either 'Hip-Hop' or 'Rock' - all without listening to a single one ourselves. In doing so, we will learn how to clean our data, do some exploratory data visualization, and use feature reduction towards the goal of feeding our data through some simple machine learning algorithms, such as decision trees and logistic regression.</p>\n",
    "<p>To begin with, let's load the metadata about our tracks alongside the track metrics compiled by The Echo Nest. A song is about more than its title, artist, and number of listens. We have another dataset that has musical features of each track such as <code>danceability</code> and <code>acousticness</code> on a scale from -1 to 1. These exist in two different files, which are in different formats - CSV and JSON. While CSV is a popular file format for denoting tabular data, JSON is another common file format in which databases often return the results of a given query.</p>\n",
    "<p>Let's start by creating two pandas <code>DataFrames</code> out of these files that we can merge so we have features and labels (often also referred to as <code>X</code> and <code>y</code>) for the classification later on.</p>"
   ]
  },
  {
   "cell_type": "code",
   "execution_count": 1293,
   "metadata": {
    "dc": {
     "key": "3"
    },
    "tags": [
     "sample_code"
    ]
   },
   "outputs": [
    {
     "name": "stdout",
     "output_type": "stream",
     "text": [
      "<class 'pandas.core.frame.DataFrame'>\n",
      "Int64Index: 4802 entries, 0 to 4801\n",
      "Data columns (total 10 columns):\n",
      "acousticness        4802 non-null float64\n",
      "danceability        4802 non-null float64\n",
      "energy              4802 non-null float64\n",
      "instrumentalness    4802 non-null float64\n",
      "liveness            4802 non-null float64\n",
      "speechiness         4802 non-null float64\n",
      "tempo               4802 non-null float64\n",
      "track_id            4802 non-null int64\n",
      "valence             4802 non-null float64\n",
      "genre_top           4802 non-null object\n",
      "dtypes: float64(8), int64(1), object(1)\n",
      "memory usage: 412.7+ KB\n"
     ]
    }
   ],
   "source": [
    "import pandas as pd\n",
    "\n",
    "# Read in track metadata with genre labels\n",
    "tracks = pd.read_csv(\"datasets/fma-rock-vs-hiphop.csv\")\n",
    "\n",
    "# Read in track metrics with the features\n",
    "echonest_metrics = pd.read_json(\"datasets/echonest-metrics.json\", precise_float=True)\n",
    "\n",
    "# Merge the relevant columns of tracks and echonest_metrics\n",
    "echo_tracks = echo_tracks = echonest_metrics.merge(tracks[['track_id', 'genre_top']], on='track_id')\n",
    "\n",
    "# Inspect the resultant dataframe\n",
    "echo_tracks.info()"
   ]
  },
  {
   "cell_type": "markdown",
   "metadata": {
    "dc": {
     "key": "10"
    },
    "deletable": false,
    "editable": false,
    "run_control": {
     "frozen": true
    },
    "tags": [
     "context"
    ]
   },
   "source": [
    "## 2. Pairwise relationships between continuous variables\n",
    "<p>We typically want to avoid using variables that have strong correlations with each other -- hence avoiding feature redundancy -- for a few reasons:</p>\n",
    "<ul>\n",
    "<li>To keep the model simple and improve interpretability (with many features, we run the risk of overfitting).</li>\n",
    "<li>When our datasets are very large, using fewer features can drastically speed up our computation time.</li>\n",
    "</ul>\n",
    "<p>To get a sense of whether there are any strongly correlated features in our data, we will use built-in functions in the <code>pandas</code> package.</p>"
   ]
  },
  {
   "cell_type": "code",
   "execution_count": 1295,
   "metadata": {
    "dc": {
     "key": "10"
    },
    "tags": [
     "sample_code"
    ]
   },
   "outputs": [
    {
     "data": {
      "text/html": [
       "<style  type=\"text/css\" >\n",
       "    #T_7dbcac7e_bdba_11e9_8a93_0242ac11002erow0_col0 {\n",
       "            background-color:  #023858;\n",
       "        }    #T_7dbcac7e_bdba_11e9_8a93_0242ac11002erow0_col1 {\n",
       "            background-color:  #e0dded;\n",
       "        }    #T_7dbcac7e_bdba_11e9_8a93_0242ac11002erow0_col2 {\n",
       "            background-color:  #fff7fb;\n",
       "        }    #T_7dbcac7e_bdba_11e9_8a93_0242ac11002erow0_col3 {\n",
       "            background-color:  #97b7d7;\n",
       "        }    #T_7dbcac7e_bdba_11e9_8a93_0242ac11002erow0_col4 {\n",
       "            background-color:  #f3edf5;\n",
       "        }    #T_7dbcac7e_bdba_11e9_8a93_0242ac11002erow0_col5 {\n",
       "            background-color:  #b8c6e0;\n",
       "        }    #T_7dbcac7e_bdba_11e9_8a93_0242ac11002erow0_col6 {\n",
       "            background-color:  #e1dfed;\n",
       "        }    #T_7dbcac7e_bdba_11e9_8a93_0242ac11002erow0_col7 {\n",
       "            background-color:  #fff7fb;\n",
       "        }    #T_7dbcac7e_bdba_11e9_8a93_0242ac11002erow0_col8 {\n",
       "            background-color:  #e2dfee;\n",
       "        }    #T_7dbcac7e_bdba_11e9_8a93_0242ac11002erow1_col0 {\n",
       "            background-color:  #d0d1e6;\n",
       "        }    #T_7dbcac7e_bdba_11e9_8a93_0242ac11002erow1_col1 {\n",
       "            background-color:  #023858;\n",
       "        }    #T_7dbcac7e_bdba_11e9_8a93_0242ac11002erow1_col2 {\n",
       "            background-color:  #fbf3f9;\n",
       "        }    #T_7dbcac7e_bdba_11e9_8a93_0242ac11002erow1_col3 {\n",
       "            background-color:  #f3edf5;\n",
       "        }    #T_7dbcac7e_bdba_11e9_8a93_0242ac11002erow1_col4 {\n",
       "            background-color:  #fff7fb;\n",
       "        }    #T_7dbcac7e_bdba_11e9_8a93_0242ac11002erow1_col5 {\n",
       "            background-color:  #80aed2;\n",
       "        }    #T_7dbcac7e_bdba_11e9_8a93_0242ac11002erow1_col6 {\n",
       "            background-color:  #fff7fb;\n",
       "        }    #T_7dbcac7e_bdba_11e9_8a93_0242ac11002erow1_col7 {\n",
       "            background-color:  #bdc8e1;\n",
       "        }    #T_7dbcac7e_bdba_11e9_8a93_0242ac11002erow1_col8 {\n",
       "            background-color:  #529bc7;\n",
       "        }    #T_7dbcac7e_bdba_11e9_8a93_0242ac11002erow2_col0 {\n",
       "            background-color:  #f5eff6;\n",
       "        }    #T_7dbcac7e_bdba_11e9_8a93_0242ac11002erow2_col1 {\n",
       "            background-color:  #fef6fa;\n",
       "        }    #T_7dbcac7e_bdba_11e9_8a93_0242ac11002erow2_col2 {\n",
       "            background-color:  #023858;\n",
       "        }    #T_7dbcac7e_bdba_11e9_8a93_0242ac11002erow2_col3 {\n",
       "            background-color:  #c4cbe3;\n",
       "        }    #T_7dbcac7e_bdba_11e9_8a93_0242ac11002erow2_col4 {\n",
       "            background-color:  #dcdaeb;\n",
       "        }    #T_7dbcac7e_bdba_11e9_8a93_0242ac11002erow2_col5 {\n",
       "            background-color:  #dedcec;\n",
       "        }    #T_7dbcac7e_bdba_11e9_8a93_0242ac11002erow2_col6 {\n",
       "            background-color:  #adc1dd;\n",
       "        }    #T_7dbcac7e_bdba_11e9_8a93_0242ac11002erow2_col7 {\n",
       "            background-color:  #a7bddb;\n",
       "        }    #T_7dbcac7e_bdba_11e9_8a93_0242ac11002erow2_col8 {\n",
       "            background-color:  #d9d8ea;\n",
       "        }    #T_7dbcac7e_bdba_11e9_8a93_0242ac11002erow3_col0 {\n",
       "            background-color:  #97b7d7;\n",
       "        }    #T_7dbcac7e_bdba_11e9_8a93_0242ac11002erow3_col1 {\n",
       "            background-color:  #fff7fb;\n",
       "        }    #T_7dbcac7e_bdba_11e9_8a93_0242ac11002erow3_col2 {\n",
       "            background-color:  #d2d3e7;\n",
       "        }    #T_7dbcac7e_bdba_11e9_8a93_0242ac11002erow3_col3 {\n",
       "            background-color:  #023858;\n",
       "        }    #T_7dbcac7e_bdba_11e9_8a93_0242ac11002erow3_col4 {\n",
       "            background-color:  #fdf5fa;\n",
       "        }    #T_7dbcac7e_bdba_11e9_8a93_0242ac11002erow3_col5 {\n",
       "            background-color:  #fff7fb;\n",
       "        }    #T_7dbcac7e_bdba_11e9_8a93_0242ac11002erow3_col6 {\n",
       "            background-color:  #d9d8ea;\n",
       "        }    #T_7dbcac7e_bdba_11e9_8a93_0242ac11002erow3_col7 {\n",
       "            background-color:  #f4eef6;\n",
       "        }    #T_7dbcac7e_bdba_11e9_8a93_0242ac11002erow3_col8 {\n",
       "            background-color:  #fff7fb;\n",
       "        }    #T_7dbcac7e_bdba_11e9_8a93_0242ac11002erow4_col0 {\n",
       "            background-color:  #ced0e6;\n",
       "        }    #T_7dbcac7e_bdba_11e9_8a93_0242ac11002erow4_col1 {\n",
       "            background-color:  #ede8f3;\n",
       "        }    #T_7dbcac7e_bdba_11e9_8a93_0242ac11002erow4_col2 {\n",
       "            background-color:  #bdc8e1;\n",
       "        }    #T_7dbcac7e_bdba_11e9_8a93_0242ac11002erow4_col3 {\n",
       "            background-color:  #dbdaeb;\n",
       "        }    #T_7dbcac7e_bdba_11e9_8a93_0242ac11002erow4_col4 {\n",
       "            background-color:  #023858;\n",
       "        }    #T_7dbcac7e_bdba_11e9_8a93_0242ac11002erow4_col5 {\n",
       "            background-color:  #c0c9e2;\n",
       "        }    #T_7dbcac7e_bdba_11e9_8a93_0242ac11002erow4_col6 {\n",
       "            background-color:  #dcdaeb;\n",
       "        }    #T_7dbcac7e_bdba_11e9_8a93_0242ac11002erow4_col7 {\n",
       "            background-color:  #bdc8e1;\n",
       "        }    #T_7dbcac7e_bdba_11e9_8a93_0242ac11002erow4_col8 {\n",
       "            background-color:  #e8e4f0;\n",
       "        }    #T_7dbcac7e_bdba_11e9_8a93_0242ac11002erow5_col0 {\n",
       "            background-color:  #b8c6e0;\n",
       "        }    #T_7dbcac7e_bdba_11e9_8a93_0242ac11002erow5_col1 {\n",
       "            background-color:  #93b5d6;\n",
       "        }    #T_7dbcac7e_bdba_11e9_8a93_0242ac11002erow5_col2 {\n",
       "            background-color:  #eae6f1;\n",
       "        }    #T_7dbcac7e_bdba_11e9_8a93_0242ac11002erow5_col3 {\n",
       "            background-color:  #fff7fb;\n",
       "        }    #T_7dbcac7e_bdba_11e9_8a93_0242ac11002erow5_col4 {\n",
       "            background-color:  #eae6f1;\n",
       "        }    #T_7dbcac7e_bdba_11e9_8a93_0242ac11002erow5_col5 {\n",
       "            background-color:  #023858;\n",
       "        }    #T_7dbcac7e_bdba_11e9_8a93_0242ac11002erow5_col6 {\n",
       "            background-color:  #dbdaeb;\n",
       "        }    #T_7dbcac7e_bdba_11e9_8a93_0242ac11002erow5_col7 {\n",
       "            background-color:  #d0d1e6;\n",
       "        }    #T_7dbcac7e_bdba_11e9_8a93_0242ac11002erow5_col8 {\n",
       "            background-color:  #bfc9e1;\n",
       "        }    #T_7dbcac7e_bdba_11e9_8a93_0242ac11002erow6_col0 {\n",
       "            background-color:  #d0d1e6;\n",
       "        }    #T_7dbcac7e_bdba_11e9_8a93_0242ac11002erow6_col1 {\n",
       "            background-color:  #fef6fa;\n",
       "        }    #T_7dbcac7e_bdba_11e9_8a93_0242ac11002erow6_col2 {\n",
       "            background-color:  #a7bddb;\n",
       "        }    #T_7dbcac7e_bdba_11e9_8a93_0242ac11002erow6_col3 {\n",
       "            background-color:  #c5cce3;\n",
       "        }    #T_7dbcac7e_bdba_11e9_8a93_0242ac11002erow6_col4 {\n",
       "            background-color:  #f0eaf4;\n",
       "        }    #T_7dbcac7e_bdba_11e9_8a93_0242ac11002erow6_col5 {\n",
       "            background-color:  #c8cde4;\n",
       "        }    #T_7dbcac7e_bdba_11e9_8a93_0242ac11002erow6_col6 {\n",
       "            background-color:  #023858;\n",
       "        }    #T_7dbcac7e_bdba_11e9_8a93_0242ac11002erow6_col7 {\n",
       "            background-color:  #d0d1e6;\n",
       "        }    #T_7dbcac7e_bdba_11e9_8a93_0242ac11002erow6_col8 {\n",
       "            background-color:  #d6d6e9;\n",
       "        }    #T_7dbcac7e_bdba_11e9_8a93_0242ac11002erow7_col0 {\n",
       "            background-color:  #fff7fb;\n",
       "        }    #T_7dbcac7e_bdba_11e9_8a93_0242ac11002erow7_col1 {\n",
       "            background-color:  #d2d2e7;\n",
       "        }    #T_7dbcac7e_bdba_11e9_8a93_0242ac11002erow7_col2 {\n",
       "            background-color:  #b5c4df;\n",
       "        }    #T_7dbcac7e_bdba_11e9_8a93_0242ac11002erow7_col3 {\n",
       "            background-color:  #f5eef6;\n",
       "        }    #T_7dbcac7e_bdba_11e9_8a93_0242ac11002erow7_col4 {\n",
       "            background-color:  #e9e5f1;\n",
       "        }    #T_7dbcac7e_bdba_11e9_8a93_0242ac11002erow7_col5 {\n",
       "            background-color:  #d1d2e6;\n",
       "        }    #T_7dbcac7e_bdba_11e9_8a93_0242ac11002erow7_col6 {\n",
       "            background-color:  #e1dfed;\n",
       "        }    #T_7dbcac7e_bdba_11e9_8a93_0242ac11002erow7_col7 {\n",
       "            background-color:  #023858;\n",
       "        }    #T_7dbcac7e_bdba_11e9_8a93_0242ac11002erow7_col8 {\n",
       "            background-color:  #dedcec;\n",
       "        }    #T_7dbcac7e_bdba_11e9_8a93_0242ac11002erow8_col0 {\n",
       "            background-color:  #cdd0e5;\n",
       "        }    #T_7dbcac7e_bdba_11e9_8a93_0242ac11002erow8_col1 {\n",
       "            background-color:  #4c99c5;\n",
       "        }    #T_7dbcac7e_bdba_11e9_8a93_0242ac11002erow8_col2 {\n",
       "            background-color:  #d1d2e6;\n",
       "        }    #T_7dbcac7e_bdba_11e9_8a93_0242ac11002erow8_col3 {\n",
       "            background-color:  #efe9f3;\n",
       "        }    #T_7dbcac7e_bdba_11e9_8a93_0242ac11002erow8_col4 {\n",
       "            background-color:  #f7f0f7;\n",
       "        }    #T_7dbcac7e_bdba_11e9_8a93_0242ac11002erow8_col5 {\n",
       "            background-color:  #a5bddb;\n",
       "        }    #T_7dbcac7e_bdba_11e9_8a93_0242ac11002erow8_col6 {\n",
       "            background-color:  #d3d4e7;\n",
       "        }    #T_7dbcac7e_bdba_11e9_8a93_0242ac11002erow8_col7 {\n",
       "            background-color:  #c6cce3;\n",
       "        }    #T_7dbcac7e_bdba_11e9_8a93_0242ac11002erow8_col8 {\n",
       "            background-color:  #023858;\n",
       "        }</style>  \n",
       "<table id=\"T_7dbcac7e_bdba_11e9_8a93_0242ac11002e\" > \n",
       "<thead>    <tr> \n",
       "        <th class=\"blank level0\" ></th> \n",
       "        <th class=\"col_heading level0 col0\" >acousticness</th> \n",
       "        <th class=\"col_heading level0 col1\" >danceability</th> \n",
       "        <th class=\"col_heading level0 col2\" >energy</th> \n",
       "        <th class=\"col_heading level0 col3\" >instrumentalness</th> \n",
       "        <th class=\"col_heading level0 col4\" >liveness</th> \n",
       "        <th class=\"col_heading level0 col5\" >speechiness</th> \n",
       "        <th class=\"col_heading level0 col6\" >tempo</th> \n",
       "        <th class=\"col_heading level0 col7\" >track_id</th> \n",
       "        <th class=\"col_heading level0 col8\" >valence</th> \n",
       "    </tr></thead> \n",
       "<tbody>    <tr> \n",
       "        <th id=\"T_7dbcac7e_bdba_11e9_8a93_0242ac11002elevel0_row0\" class=\"row_heading level0 row0\" >acousticness</th> \n",
       "        <td id=\"T_7dbcac7e_bdba_11e9_8a93_0242ac11002erow0_col0\" class=\"data row0 col0\" >1</td> \n",
       "        <td id=\"T_7dbcac7e_bdba_11e9_8a93_0242ac11002erow0_col1\" class=\"data row0 col1\" >-0.0289537</td> \n",
       "        <td id=\"T_7dbcac7e_bdba_11e9_8a93_0242ac11002erow0_col2\" class=\"data row0 col2\" >-0.281619</td> \n",
       "        <td id=\"T_7dbcac7e_bdba_11e9_8a93_0242ac11002erow0_col3\" class=\"data row0 col3\" >0.19478</td> \n",
       "        <td id=\"T_7dbcac7e_bdba_11e9_8a93_0242ac11002erow0_col4\" class=\"data row0 col4\" >-0.0199914</td> \n",
       "        <td id=\"T_7dbcac7e_bdba_11e9_8a93_0242ac11002erow0_col5\" class=\"data row0 col5\" >0.072204</td> \n",
       "        <td id=\"T_7dbcac7e_bdba_11e9_8a93_0242ac11002erow0_col6\" class=\"data row0 col6\" >-0.0263097</td> \n",
       "        <td id=\"T_7dbcac7e_bdba_11e9_8a93_0242ac11002erow0_col7\" class=\"data row0 col7\" >-0.372282</td> \n",
       "        <td id=\"T_7dbcac7e_bdba_11e9_8a93_0242ac11002erow0_col8\" class=\"data row0 col8\" >-0.0138406</td> \n",
       "    </tr>    <tr> \n",
       "        <th id=\"T_7dbcac7e_bdba_11e9_8a93_0242ac11002elevel0_row1\" class=\"row_heading level0 row1\" >danceability</th> \n",
       "        <td id=\"T_7dbcac7e_bdba_11e9_8a93_0242ac11002erow1_col0\" class=\"data row1 col0\" >-0.0289537</td> \n",
       "        <td id=\"T_7dbcac7e_bdba_11e9_8a93_0242ac11002erow1_col1\" class=\"data row1 col1\" >1</td> \n",
       "        <td id=\"T_7dbcac7e_bdba_11e9_8a93_0242ac11002erow1_col2\" class=\"data row1 col2\" >-0.242032</td> \n",
       "        <td id=\"T_7dbcac7e_bdba_11e9_8a93_0242ac11002erow1_col3\" class=\"data row1 col3\" >-0.255217</td> \n",
       "        <td id=\"T_7dbcac7e_bdba_11e9_8a93_0242ac11002erow1_col4\" class=\"data row1 col4\" >-0.106584</td> \n",
       "        <td id=\"T_7dbcac7e_bdba_11e9_8a93_0242ac11002erow1_col5\" class=\"data row1 col5\" >0.276206</td> \n",
       "        <td id=\"T_7dbcac7e_bdba_11e9_8a93_0242ac11002erow1_col6\" class=\"data row1 col6\" >-0.242089</td> \n",
       "        <td id=\"T_7dbcac7e_bdba_11e9_8a93_0242ac11002erow1_col7\" class=\"data row1 col7\" >0.0494541</td> \n",
       "        <td id=\"T_7dbcac7e_bdba_11e9_8a93_0242ac11002erow1_col8\" class=\"data row1 col8\" >0.473165</td> \n",
       "    </tr>    <tr> \n",
       "        <th id=\"T_7dbcac7e_bdba_11e9_8a93_0242ac11002elevel0_row2\" class=\"row_heading level0 row2\" >energy</th> \n",
       "        <td id=\"T_7dbcac7e_bdba_11e9_8a93_0242ac11002erow2_col0\" class=\"data row2 col0\" >-0.281619</td> \n",
       "        <td id=\"T_7dbcac7e_bdba_11e9_8a93_0242ac11002erow2_col1\" class=\"data row2 col1\" >-0.242032</td> \n",
       "        <td id=\"T_7dbcac7e_bdba_11e9_8a93_0242ac11002erow2_col2\" class=\"data row2 col2\" >1</td> \n",
       "        <td id=\"T_7dbcac7e_bdba_11e9_8a93_0242ac11002erow2_col3\" class=\"data row2 col3\" >0.0282377</td> \n",
       "        <td id=\"T_7dbcac7e_bdba_11e9_8a93_0242ac11002erow2_col4\" class=\"data row2 col4\" >0.113331</td> \n",
       "        <td id=\"T_7dbcac7e_bdba_11e9_8a93_0242ac11002erow2_col5\" class=\"data row2 col5\" >-0.109983</td> \n",
       "        <td id=\"T_7dbcac7e_bdba_11e9_8a93_0242ac11002erow2_col6\" class=\"data row2 col6\" >0.195227</td> \n",
       "        <td id=\"T_7dbcac7e_bdba_11e9_8a93_0242ac11002erow2_col7\" class=\"data row2 col7\" >0.140703</td> \n",
       "        <td id=\"T_7dbcac7e_bdba_11e9_8a93_0242ac11002erow2_col8\" class=\"data row2 col8\" >0.0386027</td> \n",
       "    </tr>    <tr> \n",
       "        <th id=\"T_7dbcac7e_bdba_11e9_8a93_0242ac11002elevel0_row3\" class=\"row_heading level0 row3\" >instrumentalness</th> \n",
       "        <td id=\"T_7dbcac7e_bdba_11e9_8a93_0242ac11002erow3_col0\" class=\"data row3 col0\" >0.19478</td> \n",
       "        <td id=\"T_7dbcac7e_bdba_11e9_8a93_0242ac11002erow3_col1\" class=\"data row3 col1\" >-0.255217</td> \n",
       "        <td id=\"T_7dbcac7e_bdba_11e9_8a93_0242ac11002erow3_col2\" class=\"data row3 col2\" >0.0282377</td> \n",
       "        <td id=\"T_7dbcac7e_bdba_11e9_8a93_0242ac11002erow3_col3\" class=\"data row3 col3\" >1</td> \n",
       "        <td id=\"T_7dbcac7e_bdba_11e9_8a93_0242ac11002erow3_col4\" class=\"data row3 col4\" >-0.0910218</td> \n",
       "        <td id=\"T_7dbcac7e_bdba_11e9_8a93_0242ac11002erow3_col5\" class=\"data row3 col5\" >-0.366762</td> \n",
       "        <td id=\"T_7dbcac7e_bdba_11e9_8a93_0242ac11002erow3_col6\" class=\"data row3 col6\" >0.022215</td> \n",
       "        <td id=\"T_7dbcac7e_bdba_11e9_8a93_0242ac11002erow3_col7\" class=\"data row3 col7\" >-0.275623</td> \n",
       "        <td id=\"T_7dbcac7e_bdba_11e9_8a93_0242ac11002erow3_col8\" class=\"data row3 col8\" >-0.219967</td> \n",
       "    </tr>    <tr> \n",
       "        <th id=\"T_7dbcac7e_bdba_11e9_8a93_0242ac11002elevel0_row4\" class=\"row_heading level0 row4\" >liveness</th> \n",
       "        <td id=\"T_7dbcac7e_bdba_11e9_8a93_0242ac11002erow4_col0\" class=\"data row4 col0\" >-0.0199914</td> \n",
       "        <td id=\"T_7dbcac7e_bdba_11e9_8a93_0242ac11002erow4_col1\" class=\"data row4 col1\" >-0.106584</td> \n",
       "        <td id=\"T_7dbcac7e_bdba_11e9_8a93_0242ac11002erow4_col2\" class=\"data row4 col2\" >0.113331</td> \n",
       "        <td id=\"T_7dbcac7e_bdba_11e9_8a93_0242ac11002erow4_col3\" class=\"data row4 col3\" >-0.0910218</td> \n",
       "        <td id=\"T_7dbcac7e_bdba_11e9_8a93_0242ac11002erow4_col4\" class=\"data row4 col4\" >1</td> \n",
       "        <td id=\"T_7dbcac7e_bdba_11e9_8a93_0242ac11002erow4_col5\" class=\"data row4 col5\" >0.0411725</td> \n",
       "        <td id=\"T_7dbcac7e_bdba_11e9_8a93_0242ac11002erow4_col6\" class=\"data row4 col6\" >0.00273169</td> \n",
       "        <td id=\"T_7dbcac7e_bdba_11e9_8a93_0242ac11002erow4_col7\" class=\"data row4 col7\" >0.0482307</td> \n",
       "        <td id=\"T_7dbcac7e_bdba_11e9_8a93_0242ac11002erow4_col8\" class=\"data row4 col8\" >-0.0450931</td> \n",
       "    </tr>    <tr> \n",
       "        <th id=\"T_7dbcac7e_bdba_11e9_8a93_0242ac11002elevel0_row5\" class=\"row_heading level0 row5\" >speechiness</th> \n",
       "        <td id=\"T_7dbcac7e_bdba_11e9_8a93_0242ac11002erow5_col0\" class=\"data row5 col0\" >0.072204</td> \n",
       "        <td id=\"T_7dbcac7e_bdba_11e9_8a93_0242ac11002erow5_col1\" class=\"data row5 col1\" >0.276206</td> \n",
       "        <td id=\"T_7dbcac7e_bdba_11e9_8a93_0242ac11002erow5_col2\" class=\"data row5 col2\" >-0.109983</td> \n",
       "        <td id=\"T_7dbcac7e_bdba_11e9_8a93_0242ac11002erow5_col3\" class=\"data row5 col3\" >-0.366762</td> \n",
       "        <td id=\"T_7dbcac7e_bdba_11e9_8a93_0242ac11002erow5_col4\" class=\"data row5 col4\" >0.0411725</td> \n",
       "        <td id=\"T_7dbcac7e_bdba_11e9_8a93_0242ac11002erow5_col5\" class=\"data row5 col5\" >1</td> \n",
       "        <td id=\"T_7dbcac7e_bdba_11e9_8a93_0242ac11002erow5_col6\" class=\"data row5 col6\" >0.00824055</td> \n",
       "        <td id=\"T_7dbcac7e_bdba_11e9_8a93_0242ac11002erow5_col7\" class=\"data row5 col7\" >-0.0269951</td> \n",
       "        <td id=\"T_7dbcac7e_bdba_11e9_8a93_0242ac11002erow5_col8\" class=\"data row5 col8\" >0.149894</td> \n",
       "    </tr>    <tr> \n",
       "        <th id=\"T_7dbcac7e_bdba_11e9_8a93_0242ac11002elevel0_row6\" class=\"row_heading level0 row6\" >tempo</th> \n",
       "        <td id=\"T_7dbcac7e_bdba_11e9_8a93_0242ac11002erow6_col0\" class=\"data row6 col0\" >-0.0263097</td> \n",
       "        <td id=\"T_7dbcac7e_bdba_11e9_8a93_0242ac11002erow6_col1\" class=\"data row6 col1\" >-0.242089</td> \n",
       "        <td id=\"T_7dbcac7e_bdba_11e9_8a93_0242ac11002erow6_col2\" class=\"data row6 col2\" >0.195227</td> \n",
       "        <td id=\"T_7dbcac7e_bdba_11e9_8a93_0242ac11002erow6_col3\" class=\"data row6 col3\" >0.022215</td> \n",
       "        <td id=\"T_7dbcac7e_bdba_11e9_8a93_0242ac11002erow6_col4\" class=\"data row6 col4\" >0.00273169</td> \n",
       "        <td id=\"T_7dbcac7e_bdba_11e9_8a93_0242ac11002erow6_col5\" class=\"data row6 col5\" >0.00824055</td> \n",
       "        <td id=\"T_7dbcac7e_bdba_11e9_8a93_0242ac11002erow6_col6\" class=\"data row6 col6\" >1</td> \n",
       "        <td id=\"T_7dbcac7e_bdba_11e9_8a93_0242ac11002erow6_col7\" class=\"data row6 col7\" >-0.0253918</td> \n",
       "        <td id=\"T_7dbcac7e_bdba_11e9_8a93_0242ac11002erow6_col8\" class=\"data row6 col8\" >0.0522212</td> \n",
       "    </tr>    <tr> \n",
       "        <th id=\"T_7dbcac7e_bdba_11e9_8a93_0242ac11002elevel0_row7\" class=\"row_heading level0 row7\" >track_id</th> \n",
       "        <td id=\"T_7dbcac7e_bdba_11e9_8a93_0242ac11002erow7_col0\" class=\"data row7 col0\" >-0.372282</td> \n",
       "        <td id=\"T_7dbcac7e_bdba_11e9_8a93_0242ac11002erow7_col1\" class=\"data row7 col1\" >0.0494541</td> \n",
       "        <td id=\"T_7dbcac7e_bdba_11e9_8a93_0242ac11002erow7_col2\" class=\"data row7 col2\" >0.140703</td> \n",
       "        <td id=\"T_7dbcac7e_bdba_11e9_8a93_0242ac11002erow7_col3\" class=\"data row7 col3\" >-0.275623</td> \n",
       "        <td id=\"T_7dbcac7e_bdba_11e9_8a93_0242ac11002erow7_col4\" class=\"data row7 col4\" >0.0482307</td> \n",
       "        <td id=\"T_7dbcac7e_bdba_11e9_8a93_0242ac11002erow7_col5\" class=\"data row7 col5\" >-0.0269951</td> \n",
       "        <td id=\"T_7dbcac7e_bdba_11e9_8a93_0242ac11002erow7_col6\" class=\"data row7 col6\" >-0.0253918</td> \n",
       "        <td id=\"T_7dbcac7e_bdba_11e9_8a93_0242ac11002erow7_col7\" class=\"data row7 col7\" >1</td> \n",
       "        <td id=\"T_7dbcac7e_bdba_11e9_8a93_0242ac11002erow7_col8\" class=\"data row7 col8\" >0.0100698</td> \n",
       "    </tr>    <tr> \n",
       "        <th id=\"T_7dbcac7e_bdba_11e9_8a93_0242ac11002elevel0_row8\" class=\"row_heading level0 row8\" >valence</th> \n",
       "        <td id=\"T_7dbcac7e_bdba_11e9_8a93_0242ac11002erow8_col0\" class=\"data row8 col0\" >-0.0138406</td> \n",
       "        <td id=\"T_7dbcac7e_bdba_11e9_8a93_0242ac11002erow8_col1\" class=\"data row8 col1\" >0.473165</td> \n",
       "        <td id=\"T_7dbcac7e_bdba_11e9_8a93_0242ac11002erow8_col2\" class=\"data row8 col2\" >0.0386027</td> \n",
       "        <td id=\"T_7dbcac7e_bdba_11e9_8a93_0242ac11002erow8_col3\" class=\"data row8 col3\" >-0.219967</td> \n",
       "        <td id=\"T_7dbcac7e_bdba_11e9_8a93_0242ac11002erow8_col4\" class=\"data row8 col4\" >-0.0450931</td> \n",
       "        <td id=\"T_7dbcac7e_bdba_11e9_8a93_0242ac11002erow8_col5\" class=\"data row8 col5\" >0.149894</td> \n",
       "        <td id=\"T_7dbcac7e_bdba_11e9_8a93_0242ac11002erow8_col6\" class=\"data row8 col6\" >0.0522212</td> \n",
       "        <td id=\"T_7dbcac7e_bdba_11e9_8a93_0242ac11002erow8_col7\" class=\"data row8 col7\" >0.0100698</td> \n",
       "        <td id=\"T_7dbcac7e_bdba_11e9_8a93_0242ac11002erow8_col8\" class=\"data row8 col8\" >1</td> \n",
       "    </tr></tbody> \n",
       "</table> "
      ],
      "text/plain": [
       "<pandas.io.formats.style.Styler at 0x7fac1e640d30>"
      ]
     },
     "execution_count": 1295,
     "metadata": {},
     "output_type": "execute_result"
    }
   ],
   "source": [
    "# Create a correlation matrix\n",
    "corr_metrics = echo_tracks.corr()\n",
    "corr_metrics.style.background_gradient()"
   ]
  },
  {
   "cell_type": "markdown",
   "metadata": {
    "dc": {
     "key": "17"
    },
    "deletable": false,
    "editable": false,
    "run_control": {
     "frozen": true
    },
    "tags": [
     "context"
    ]
   },
   "source": [
    "## 3. Normalizing the feature data\n",
    "<p>As mentioned earlier, it can be particularly useful to simplify our models and use as few features as necessary to achieve the best result. Since we didn't find any particular strong correlations between our features, we can instead use a common approach to reduce the number of features called <strong>principal component analysis (PCA)</strong>. </p>\n",
    "<p>It is possible that the variance between genres can be explained by just a few features in the dataset. PCA rotates the data along the axis of highest variance, thus allowing us to determine the relative contribution of each feature of our data towards the variance between classes. </p>\n",
    "<p>However, since PCA uses the absolute variance of a feature to rotate the data, a feature with a broader range of values will overpower and bias the algorithm relative to the other features. To avoid this, we must first normalize our data. There are a few methods to do this, but a common way is through <em>standardization</em>, such that all features have a mean = 0 and standard deviation = 1 (the resultant is a z-score).</p>"
   ]
  },
  {
   "cell_type": "code",
   "execution_count": 1297,
   "metadata": {
    "dc": {
     "key": "17"
    },
    "tags": [
     "sample_code"
    ]
   },
   "outputs": [],
   "source": [
    "# Define our features \n",
    "features = echo_tracks.drop(columns=['genre_top','track_id'])\n",
    "\n",
    "# Define our labels\n",
    "labels = echo_tracks.genre_top\n",
    "\n",
    "# Import the StandardScaler\n",
    "from sklearn.preprocessing import StandardScaler \n",
    "\n",
    "# Scale the features and set the values to a new variable\n",
    "scaler = StandardScaler()\n",
    "scaled_train_features = scaler.fit_transform(features)"
   ]
  },
  {
   "cell_type": "markdown",
   "metadata": {
    "dc": {
     "key": "24"
    },
    "deletable": false,
    "editable": false,
    "run_control": {
     "frozen": true
    },
    "tags": [
     "context"
    ]
   },
   "source": [
    "## 4. Principal Component Analysis on our scaled data\n",
    "<p>Now that we have preprocessed our data, we are ready to use PCA to determine by how much we can reduce the dimensionality of our data. We can use <strong>scree-plots</strong> and <strong>cumulative explained ratio plots</strong> to find the number of components to use in further analyses.</p>\n",
    "<p>Scree-plots display the number of components against the variance explained by each component, sorted in descending order of variance. Scree-plots help us get a better sense of which components explain a sufficient amount of variance in our data. When using scree plots, an 'elbow' (a steep drop from one data point to the next) in the plot is typically used to decide on an appropriate cutoff.</p>"
   ]
  },
  {
   "cell_type": "code",
   "execution_count": 1299,
   "metadata": {
    "dc": {
     "key": "24"
    },
    "tags": [
     "sample_code"
    ]
   },
   "outputs": [
    {
     "data": {
      "text/plain": [
       "Text(0,0.5,'exp_variance')"
      ]
     },
     "execution_count": 1299,
     "metadata": {},
     "output_type": "execute_result"
    },
    {
     "data": {
      "image/png": "[encoded data removed]",
      "text/plain": [
       "<Figure size 432x288 with 1 Axes>"
      ]
     },
     "metadata": {},
     "output_type": "display_data"
    }
   ],
   "source": [
    "# This is just to make plots appear in the notebook\n",
    "%matplotlib inline\n",
    "\n",
    "# Import our plotting module, and PCA class\n",
    "import matplotlib.pyplot as plt\n",
    "from sklearn.decomposition import PCA\n",
    "\n",
    "# Get our explained variance ratios from PCA using all features\n",
    "pca = PCA()\n",
    "\n",
    "pca.fit(scaled_train_features)\n",
    "exp_variance=pca.explained_variance_ratio_\n",
    "n_components=pca.n_components_\n",
    "\n",
    "# plot the explained variance using a barplot\n",
    "fig, ax = plt.subplots()\n",
    "ax.bar(range(n_components),exp_variance)\n",
    "ax.set_xlabel('n_components')\n",
    "ax.set_ylabel('exp_variance')"
   ]
  },
  {
   "cell_type": "markdown",
   "metadata": {
    "dc": {
     "key": "31"
    },
    "deletable": false,
    "editable": false,
    "run_control": {
     "frozen": true
    },
    "tags": [
     "context"
    ]
   },
   "source": [
    "## 5. Further visualization of PCA\n",
    "<p>Unfortunately, there does not appear to be a clear elbow in this scree plot, which means it is not straightforward to find the number of intrinsic dimensions using this method. </p>\n",
    "<p>But all is not lost! Instead, we can also look at the <strong>cumulative explained variance plot</strong> to determine how many features are required to explain, say, about 90% of the variance (cutoffs are somewhat arbitrary here, and usually decided upon by 'rules of thumb'). Once we determine the appropriate number of components, we can perform PCA with that many components, ideally reducing the dimensionality of our data.</p>"
   ]
  },
  {
   "cell_type": "code",
   "execution_count": 1301,
   "metadata": {
    "dc": {
     "key": "31"
    },
    "tags": [
     "sample_code"
    ]
   },
   "outputs": [
    {
     "data": {
      "image/png": "[encoded data removed]",
      "text/plain": [
       "<Figure size 432x288 with 1 Axes>"
      ]
     },
     "metadata": {},
     "output_type": "display_data"
    }
   ],
   "source": [
    "# Import numpy\n",
    "import numpy as np\n",
    "\n",
    "# Calculate the cumulative explained variance\n",
    "cum_exp_variance = np.cumsum(exp_variance)\n",
    "\n",
    "# Plot the cumulative explained variance and draw a dashed line at 0.90.\n",
    "fig, ax = plt.subplots()\n",
    "ax.plot(range(n_components),cum_exp_variance)\n",
    "ax.axhline(y=0.9, linestyle='--')\n",
    "n_components = 6\n",
    "\n",
    "# Perform PCA with the chosen number of components and project data onto components\n",
    "pca = PCA(n_components, random_state=10)\n",
    "pca.fit(scaled_train_features)\n",
    "pca_projection = pca.transform(scaled_train_features)"
   ]
  },
  {
   "cell_type": "markdown",
   "metadata": {
    "dc": {
     "key": "38"
    },
    "deletable": false,
    "editable": false,
    "run_control": {
     "frozen": true
    },
    "tags": [
     "context"
    ]
   },
   "source": [
    "## 6. Train a decision tree to classify genre\n",
    "<p>Now we can use the lower dimensional PCA projection of the data to classify songs into genres. To do that, we first need to split our dataset into 'train' and 'test' subsets, where the 'train' subset will be used to train our model while the 'test' dataset allows for model performance validation.</p>\n",
    "<p>Here, we will be using a simple algorithm known as a decision tree. Decision trees are rule-based classifiers that take in features and follow a 'tree structure' of binary decisions to ultimately classify a data point into one of two or more categories. In addition to being easy to both use and interpret, decision trees allow us to visualize the 'logic flowchart' that the model generates from the training data.</p>\n",
    "<p>Here is an example of a decision tree that demonstrates the process by which an input image (in this case, of a shape) might be classified based on the number of sides it has and whether it is rotated.</p>\n",
    "<p><img src=\"https://s3.amazonaws.com/assets.datacamp.com/production/project_449/img/simple_decision_tree.png\" alt=\"Decision Tree Flow Chart Example\" width=\"350px\"></p>"
   ]
  },
  {
   "cell_type": "code",
   "execution_count": 1303,
   "metadata": {
    "dc": {
     "key": "38"
    },
    "scrolled": true,
    "tags": [
     "sample_code"
    ]
   },
   "outputs": [
    {
     "name": "stdout",
     "output_type": "stream",
     "text": [
      "['Hip-Hop' 'Rock' 'Rock' ... 'Rock' 'Hip-Hop' 'Rock']\n"
     ]
    }
   ],
   "source": [
    "# Import train_test_split function and Decision tree classifier\n",
    "from sklearn.model_selection import train_test_split\n",
    "from sklearn.tree import DecisionTreeClassifier\n",
    "# Split our data\n",
    "train_features, test_features, train_labels, test_labels = train_test_split(features,labels,random_state=10)\n",
    "\n",
    "# Train our decision tree\n",
    "tree = DecisionTreeClassifier(random_state=10)\n",
    "tree.fit(train_features,train_labels)\n",
    "# Predict the labels for the test data\n",
    "pred_labels_tree = tree.predict(test_features)\n",
    "print(pred_labels_tree)"
   ]
  },
  {
   "cell_type": "markdown",
   "metadata": {
    "dc": {
     "key": "45"
    },
    "deletable": false,
    "editable": false,
    "run_control": {
     "frozen": true
    },
    "tags": [
     "context"
    ]
   },
   "source": [
    "## 7. Compare our decision tree to a logistic regression\n",
    "<p>Although our tree's performance is decent, it's a bad idea to immediately assume that it's therefore the perfect tool for this job -- there's always the possibility of other models that will perform even better! It's always a worthwhile idea to at least test a few other algorithms and find the one that's best for our data.</p>\n",
    "<p>Sometimes simplest is best, and so we will start by applying <strong>logistic regression</strong>. Logistic regression makes use of what's called the logistic function to calculate the odds that a given data point belongs to a given class. Once we have both models, we can compare them on a few performance metrics, such as false positive and false negative rate (or how many points are inaccurately classified). </p>"
   ]
  },
  {
   "cell_type": "code",
   "execution_count": 1305,
   "metadata": {
    "dc": {
     "key": "45"
    },
    "tags": [
     "sample_code"
    ]
   },
   "outputs": [
    {
     "name": "stdout",
     "output_type": "stream",
     "text": [
      "Decision Tree: \n",
      "              precision    recall  f1-score   support\n",
      "\n",
      "    Hip-Hop       0.72      0.73      0.73       229\n",
      "       Rock       0.94      0.93      0.94       972\n",
      "\n",
      "avg / total       0.90      0.90      0.90      1201\n",
      "\n",
      "Logistic Regression: \n",
      "              precision    recall  f1-score   support\n",
      "\n",
      "    Hip-Hop       0.78      0.58      0.67       229\n",
      "       Rock       0.91      0.96      0.93       972\n",
      "\n",
      "avg / total       0.88      0.89      0.88      1201\n",
      "\n"
     ]
    }
   ],
   "source": [
    "# Import LogisticRegression\n",
    "from sklearn.linear_model import LogisticRegression\n",
    "\n",
    "# Train our logistic regression and predict labels for the test set\n",
    "logreg = LogisticRegression(random_state=10)\n",
    "logreg.fit(train_features,train_labels)\n",
    "pred_labels_logit = logreg.predict(test_features)\n",
    "\n",
    "# Create the classification report for both models\n",
    "from sklearn.metrics import classification_report\n",
    "class_rep_tree = classification_report(test_labels,pred_labels_tree)\n",
    "class_rep_log = classification_report(test_labels,pred_labels_logit)\n",
    "\n",
    "print(\"Decision Tree: \\n\", class_rep_tree)\n",
    "print(\"Logistic Regression: \\n\", class_rep_log)"
   ]
  },
  {
   "cell_type": "markdown",
   "metadata": {
    "dc": {
     "key": "52"
    },
    "deletable": false,
    "editable": false,
    "run_control": {
     "frozen": true
    },
    "tags": [
     "context"
    ]
   },
   "source": [
    "## 8. Balance our data for greater performance\n",
    "<p>Both our models do similarly well, boasting an average precision of 87% each. However, looking at our classification report, we can see that rock songs are fairly well classified, but hip-hop songs are disproportionately misclassified as rock songs. </p>\n",
    "<p>Why might this be the case? Well, just by looking at the number of data points we have for each class, we see that we have far more data points for the rock classification than for hip-hop, potentially skewing our model's ability to distinguish between classes. This also tells us that most of our model's accuracy is driven by its ability to classify just rock songs, which is less than ideal.</p>\n",
    "<p>To account for this, we can weight the value of a correct classification in each class inversely to the occurrence of data points for each class. Since a correct classification for \"Rock\" is not more important than a correct classification for \"Hip-Hop\" (and vice versa), we only need to account for differences in <em>sample size</em> of our data points when weighting our classes here, and not relative importance of each class. </p>"
   ]
  },
  {
   "cell_type": "code",
   "execution_count": 1307,
   "metadata": {
    "dc": {
     "key": "52"
    },
    "tags": [
     "sample_code"
    ]
   },
   "outputs": [],
   "source": [
    "# Subset only the hip-hop tracks, and then only the rock tracks\n",
    "hop_only = echo_tracks.loc[echo_tracks[\"genre_top\"] == \"Hip-Hop\"]\n",
    "\n",
    "# sample the rocks songs to be the same number as there are hip-hop songs\n",
    "rock_only = echo_tracks.loc[echo_tracks[\"genre_top\"] == \"Rock\"].sample(len(hop_only), random_state=10)\n",
    "\n",
    "# concatenate the dataframes rock_only and hop_only\n",
    "rock_hop_bal = pd.concat([rock_only, hop_only])\n",
    "\n",
    "# The features, labels, and pca projection are created for the balanced dataframe\n",
    "features = rock_hop_bal.drop(['genre_top', 'track_id'], axis=1) \n",
    "labels = rock_hop_bal['genre_top']\n",
    "pca_projection = pca.fit_transform(scaler.fit_transform(features))\n",
    "\n",
    "# Redefine the train and test set with the pca_projection from the balanced data\n",
    "train_features, test_features, train_labels, test_labels = train_test_split(pca_projection, labels, random_state=10)"
   ]
  },
  {
   "cell_type": "markdown",
   "metadata": {
    "dc": {
     "key": "59"
    },
    "deletable": false,
    "editable": false,
    "run_control": {
     "frozen": true
    },
    "tags": [
     "context"
    ]
   },
   "source": [
    "## 9. Does balancing our dataset improve model bias?\n",
    "<p>We've now balanced our dataset, but in doing so, we've removed a lot of data points that might have been crucial to training our models. Let's test to see if balancing our data improves model bias towards the \"Rock\" classification while retaining overall classification performance. </p>\n",
    "<p>Note that we have already reduced the size of our dataset and will go forward without applying any dimensionality reduction. In practice, we would consider dimensionality reduction more rigorously when dealing with vastly large datasets and when computation times become prohibitively large.</p>"
   ]
  },
  {
   "cell_type": "code",
   "execution_count": 1309,
   "metadata": {
    "dc": {
     "key": "59"
    },
    "tags": [
     "sample_code"
    ]
   },
   "outputs": [
    {
     "ename": "TypeError",
     "evalue": "classification_report() missing 1 required positional argument: 'y_pred'",
     "output_type": "error",
     "traceback": [
      "---------------------------------------------------------------------------",
      "TypeError                                 Traceback (most recent call last)",
      "<ipython-input-1309-50bd8d50a46d> in <module>()\n     10 \n     11 # Compare the models\n---> 12 print(\"Decision Tree: \\n\", classification_report(...))\n     13 print(\"Logistic Regression: \\n\", classification_report(...))\n",
      "TypeError: classification_report() missing 1 required positional argument: 'y_pred'"
     ]
    }
   ],
   "source": [
    "# Train our decision tree on the balanced data\n",
    "tree = ...\n",
    "...\n",
    "pred_labels_tree = ...\n",
    "\n",
    "# Train our logistic regression on the balanced data\n",
    "logreg = ...\n",
    "...\n",
    "pred_labels_logit = ...\n",
    "\n",
    "# Compare the models\n",
    "print(\"Decision Tree: \\n\", classification_report(...))\n",
    "print(\"Logistic Regression: \\n\", classification_report(...))"
   ]
  },
  {
   "cell_type": "markdown",
   "metadata": {
    "dc": {
     "key": "66"
    },
    "deletable": false,
    "editable": false,
    "run_control": {
     "frozen": true
    },
    "tags": [
     "context"
    ]
   },
   "source": [
    "## 10. Using cross-validation to evaluate our models\n",
    "<p>Success! Balancing our data has removed bias towards the more prevalent class. To get a good sense of how well our models are actually performing, we can apply what's called <strong>cross-validation</strong> (CV). This step allows us to compare models in a more rigorous fashion.</p>\n",
    "<p>Since the way our data is split into train and test sets can impact model performance, CV attempts to split the data multiple ways and test the model on each of the splits. Although there are many different CV methods, all with their own advantages and disadvantages, we will use what's known as <strong>K-fold</strong> CV here. K-fold first splits the data into K different, equally sized subsets. Then, it iteratively uses each subset as a test set while using the remainder of the data as train sets. Finally, we can then aggregate the results from each fold for a final model performance score.</p>"
   ]
  },
  {
   "cell_type": "code",
   "execution_count": null,
   "metadata": {
    "collapsed": true,
    "dc": {
     "key": "66"
    },
    "tags": [
     "sample_code"
    ]
   },
   "outputs": [],
   "source": [
    "from sklearn.model_selection import KFold, cross_val_score\n",
    "\n",
    "# Set up our K-fold cross-validation\n",
    "kf = ...\n",
    "\n",
    "tree = DecisionTreeClassifier(random_state=10)\n",
    "logreg = LogisticRegression(random_state=10)\n",
    "\n",
    "# Train our models using KFold cv\n",
    "tree_score = ...\n",
    "logit_score = ...\n",
    "\n",
    "# Print the mean of each array of scores\n",
    "print(\"Decision Tree:\", ..., \"Logistic Regression:\", ...)"
   ]
  }
 ],
 "metadata": {
  "kernelspec": {
   "display_name": "Python 3",
   "language": "python",
   "name": "python3"
  },
  "language_info": {
   "codemirror_mode": {
    "name": "ipython",
    "version": 3
   },
   "file_extension": ".py",
   "mimetype": "text/x-python",
   "name": "python",
   "nbconvert_exporter": "python",
   "pygments_lexer": "ipython3",
   "version": "3.7.3"
  }
 },
 "nbformat": 4,
 "nbformat_minor": 2
}
